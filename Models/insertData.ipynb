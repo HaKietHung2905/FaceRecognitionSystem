{
 "cells": [
  {
   "cell_type": "code",
   "execution_count": 1,
   "metadata": {},
   "outputs": [],
   "source": [
    "\n",
    "import mysql.connector  \n",
    "import configparser\n",
    "import json\n",
    "from deepface import DeepFace\n",
    "from deepface.commons import package_utils, folder_utils\n",
    "import os\n",
    "\n",
    "from datetime import datetime\n",
    "import hashlib\n",
    "\n",
    "import pandas as pd\n",
    "import numpy as np\n",
    "import os\n",
    "from tqdm import tqdm\n",
    "import pickle\n",
    "import matplotlib.pyplot as plt\n",
    "import math\n",
    "import time\n",
    "\n",
    "#!pip install deepface\n",
    "from deepface import DeepFace\n",
    "from deepface.commons import package_utils, folder_utils"
   ]
  },
  {
   "cell_type": "code",
   "execution_count": 2,
   "metadata": {},
   "outputs": [],
   "source": [
    "model = DeepFace.build_model(\"Facenet\")"
   ]
  },
  {
   "cell_type": "code",
   "execution_count": 3,
   "metadata": {},
   "outputs": [],
   "source": [
    "facial_img_paths = []\n",
    "#Available at: https://github.com/serengil/deepface/tree/master/tests/dataset\n",
    "for root, directory, files in os.walk(\"../dataset\"):\n",
    "    for file in files:\n",
    "        if '.jpg' in file:\n",
    "            facial_img_paths.append(root+\"/\"+file)"
   ]
  },
  {
   "cell_type": "code",
   "execution_count": 4,
   "metadata": {},
   "outputs": [
    {
     "name": "stderr",
     "output_type": "stream",
     "text": [
      "Action: race: 100%|██████████| 4/4 [00:17<00:00,  4.34s/it]\n",
      "Action: race: 100%|██████████| 4/4 [00:01<00:00,  2.27it/s]\n",
      "Action: race: 100%|██████████| 4/4 [00:01<00:00,  2.34it/s]\n",
      "Action: race: 100%|██████████| 4/4 [00:01<00:00,  2.35it/s]\n",
      "Action: race: 100%|██████████| 4/4 [00:01<00:00,  2.26it/s]\n",
      "Action: race: 100%|██████████| 4/4 [00:01<00:00,  2.36it/s]\n",
      "Action: race: 100%|██████████| 4/4 [00:01<00:00,  2.22it/s]\n",
      "Action: race: 100%|██████████| 4/4 [00:02<00:00,  1.94it/s]\n",
      "Action: race: 100%|██████████| 4/4 [00:01<00:00,  2.05it/s]\n",
      "Action: race: 100%|██████████| 4/4 [00:02<00:00,  1.76it/s]\n",
      "Action: race: 100%|██████████| 4/4 [00:02<00:00,  1.44it/s]\n",
      "Action: race: 100%|██████████| 4/4 [00:02<00:00,  1.67it/s]\n",
      "Action: race: 100%|██████████| 4/4 [00:01<00:00,  2.35it/s]\n",
      "Action: race: 100%|██████████| 4/4 [00:01<00:00,  2.40it/s]\n",
      "Action: race: 100%|██████████| 4/4 [00:01<00:00,  2.39it/s]\n",
      "Action: race: 100%|██████████| 4/4 [00:01<00:00,  2.40it/s]\n",
      "Action: race: 100%|██████████| 4/4 [00:01<00:00,  2.40it/s]\n",
      "Action: race: 100%|██████████| 4/4 [00:01<00:00,  2.40it/s]\n",
      "Action: race: 100%|██████████| 4/4 [00:01<00:00,  2.42it/s]\n",
      "Action: race: 100%|██████████| 4/4 [00:01<00:00,  2.39it/s]\n",
      "Action: race: 100%|██████████| 4/4 [00:01<00:00,  2.41it/s]\n",
      "Action: race: 100%|██████████| 4/4 [00:01<00:00,  2.35it/s]\n",
      "Action: race: 100%|██████████| 4/4 [00:01<00:00,  2.36it/s]\n",
      "Action: race: 100%|██████████| 4/4 [00:02<00:00,  1.51it/s]\n",
      "Action: race: 100%|██████████| 4/4 [00:02<00:00,  1.45it/s]\n",
      "Action: race: 100%|██████████| 4/4 [00:02<00:00,  1.92it/s]\n",
      "Action: race: 100%|██████████| 4/4 [00:01<00:00,  2.11it/s]\n",
      "Action: race: 100%|██████████| 4/4 [00:02<00:00,  1.89it/s]\n",
      "Action: race: 100%|██████████| 4/4 [00:01<00:00,  2.34it/s]\n",
      "Action: race: 100%|██████████| 4/4 [00:01<00:00,  2.35it/s]\n",
      "Action: race: 100%|██████████| 4/4 [00:02<00:00,  1.70it/s]\n",
      "Action: race: 100%|██████████| 4/4 [00:02<00:00,  1.59it/s]\n",
      "Action: race: 100%|██████████| 4/4 [00:02<00:00,  1.87it/s]\n",
      "Action: race: 100%|██████████| 4/4 [00:02<00:00,  1.83it/s]\n",
      "Action: race: 100%|██████████| 4/4 [00:01<00:00,  2.22it/s]\n",
      "Action: race: 100%|██████████| 4/4 [00:02<00:00,  1.74it/s]\n",
      "Action: race: 100%|██████████| 4/4 [00:01<00:00,  2.19it/s]\n",
      "Action: race: 100%|██████████| 4/4 [00:01<00:00,  2.29it/s]\n",
      "Action: race: 100%|██████████| 4/4 [00:01<00:00,  2.28it/s]\n",
      "Action: race: 100%|██████████| 4/4 [00:01<00:00,  2.14it/s]\n",
      "Action: race: 100%|██████████| 4/4 [00:01<00:00,  2.25it/s]\n",
      "Action: race: 100%|██████████| 4/4 [00:02<00:00,  1.75it/s]\n",
      "Action: race: 100%|██████████| 4/4 [00:03<00:00,  1.05it/s]\n",
      "Action: race: 100%|██████████| 4/4 [00:02<00:00,  1.71it/s]\n",
      "Action: race: 100%|██████████| 4/4 [00:02<00:00,  1.67it/s]\n",
      "Action: race: 100%|██████████| 4/4 [00:02<00:00,  1.66it/s]\n",
      "Action: race: 100%|██████████| 4/4 [00:01<00:00,  2.01it/s]\n",
      "Action: race: 100%|██████████| 4/4 [00:02<00:00,  1.98it/s]\n",
      "Action: race: 100%|██████████| 4/4 [00:01<00:00,  2.11it/s]\n",
      "Action: race: 100%|██████████| 4/4 [00:01<00:00,  2.09it/s]\n",
      "Action: race: 100%|██████████| 4/4 [00:01<00:00,  2.16it/s]\n",
      "Action: race: 100%|██████████| 4/4 [00:01<00:00,  2.17it/s]\n",
      "Action: race: 100%|██████████| 4/4 [00:01<00:00,  2.22it/s]\n",
      "Action: race: 100%|██████████| 4/4 [00:02<00:00,  1.97it/s]\n",
      "Action: race: 100%|██████████| 4/4 [00:01<00:00,  2.30it/s]\n",
      "Action: race: 100%|██████████| 4/4 [00:01<00:00,  2.13it/s]\n",
      "Action: race: 100%|██████████| 4/4 [00:01<00:00,  2.11it/s]\n",
      "Action: race: 100%|██████████| 4/4 [00:01<00:00,  2.15it/s]\n",
      "Action: race: 100%|██████████| 4/4 [00:01<00:00,  2.25it/s]\n",
      "Action: race: 100%|██████████| 4/4 [00:01<00:00,  2.13it/s]\n",
      "Action: race: 100%|██████████| 4/4 [00:02<00:00,  1.74it/s]\n",
      "Action: race: 100%|██████████| 4/4 [00:02<00:00,  1.67it/s]\n",
      "100%|██████████| 57/57 [04:02<00:00,  4.25s/it]\n"
     ]
    }
   ],
   "source": [
    "instances = []\n",
    " \n",
    "for i in tqdm(range(0, len(facial_img_paths))):\n",
    "#for i in tqdm(range(0, 10)):\n",
    "    facial_img_path = facial_img_paths[i]   \n",
    "    embedding = DeepFace.represent(img_path = facial_img_path, model_name = \"Facenet\", enforce_detection=False)[0][\"embedding\"]\n",
    "    objs = DeepFace.analyze(img_path = facial_img_path) \n",
    "    instance = []\n",
    "    instance.append(facial_img_path)\n",
    "    instance.append(embedding)\n",
    "    instance.append(objs[0][\"dominant_emotion\"])\n",
    "    instance.append(objs[0][\"age\"])\n",
    "    instance.append(objs[0][\"dominant_gender\"])\n",
    "    instance.append(objs[0][\"dominant_race\"])\n",
    "    instances.append(instance)"
   ]
  },
  {
   "cell_type": "code",
   "execution_count": 5,
   "metadata": {},
   "outputs": [
    {
     "data": {
      "text/html": [
       "<div>\n",
       "<style scoped>\n",
       "    .dataframe tbody tr th:only-of-type {\n",
       "        vertical-align: middle;\n",
       "    }\n",
       "\n",
       "    .dataframe tbody tr th {\n",
       "        vertical-align: top;\n",
       "    }\n",
       "\n",
       "    .dataframe thead th {\n",
       "        text-align: right;\n",
       "    }\n",
       "</style>\n",
       "<table border=\"1\" class=\"dataframe\">\n",
       "  <thead>\n",
       "    <tr style=\"text-align: right;\">\n",
       "      <th></th>\n",
       "      <th>img_name</th>\n",
       "      <th>embedding</th>\n",
       "      <th>dominant_emotion</th>\n",
       "      <th>age</th>\n",
       "      <th>dominant_gender</th>\n",
       "      <th>dominant_race</th>\n",
       "    </tr>\n",
       "  </thead>\n",
       "  <tbody>\n",
       "    <tr>\n",
       "      <th>0</th>\n",
       "      <td>../dataset/couple.jpg</td>\n",
       "      <td>[-0.9569708108901978, 0.10792163014411926, -1....</td>\n",
       "      <td>fear</td>\n",
       "      <td>31</td>\n",
       "      <td>Man</td>\n",
       "      <td>latino hispanic</td>\n",
       "    </tr>\n",
       "    <tr>\n",
       "      <th>1</th>\n",
       "      <td>../dataset/img1.jpg</td>\n",
       "      <td>[0.8597482442855835, 0.9605178833007812, 1.345...</td>\n",
       "      <td>happy</td>\n",
       "      <td>31</td>\n",
       "      <td>Woman</td>\n",
       "      <td>latino hispanic</td>\n",
       "    </tr>\n",
       "    <tr>\n",
       "      <th>2</th>\n",
       "      <td>../dataset/img10.jpg</td>\n",
       "      <td>[-0.3334352374076843, 1.2074142694473267, 1.05...</td>\n",
       "      <td>neutral</td>\n",
       "      <td>32</td>\n",
       "      <td>Woman</td>\n",
       "      <td>white</td>\n",
       "    </tr>\n",
       "    <tr>\n",
       "      <th>3</th>\n",
       "      <td>../dataset/img11.jpg</td>\n",
       "      <td>[0.4563964009284973, 0.19060522317886353, 1.72...</td>\n",
       "      <td>fear</td>\n",
       "      <td>32</td>\n",
       "      <td>Woman</td>\n",
       "      <td>white</td>\n",
       "    </tr>\n",
       "    <tr>\n",
       "      <th>4</th>\n",
       "      <td>../dataset/img11_reflection.jpg</td>\n",
       "      <td>[0.7846647500991821, 0.7575387954711914, 1.717...</td>\n",
       "      <td>neutral</td>\n",
       "      <td>36</td>\n",
       "      <td>Woman</td>\n",
       "      <td>white</td>\n",
       "    </tr>\n",
       "  </tbody>\n",
       "</table>\n",
       "</div>"
      ],
      "text/plain": [
       "                          img_name  \\\n",
       "0            ../dataset/couple.jpg   \n",
       "1              ../dataset/img1.jpg   \n",
       "2             ../dataset/img10.jpg   \n",
       "3             ../dataset/img11.jpg   \n",
       "4  ../dataset/img11_reflection.jpg   \n",
       "\n",
       "                                           embedding dominant_emotion  age  \\\n",
       "0  [-0.9569708108901978, 0.10792163014411926, -1....             fear   31   \n",
       "1  [0.8597482442855835, 0.9605178833007812, 1.345...            happy   31   \n",
       "2  [-0.3334352374076843, 1.2074142694473267, 1.05...          neutral   32   \n",
       "3  [0.4563964009284973, 0.19060522317886353, 1.72...             fear   32   \n",
       "4  [0.7846647500991821, 0.7575387954711914, 1.717...          neutral   36   \n",
       "\n",
       "  dominant_gender    dominant_race  \n",
       "0             Man  latino hispanic  \n",
       "1           Woman  latino hispanic  \n",
       "2           Woman            white  \n",
       "3           Woman            white  \n",
       "4           Woman            white  "
      ]
     },
     "execution_count": 5,
     "metadata": {},
     "output_type": "execute_result"
    }
   ],
   "source": [
    "df = pd.DataFrame(instances, columns = [\"img_name\", \"embedding\",\"dominant_emotion\", \"age\", \"dominant_gender\", \"dominant_race\"])\n",
    "df.head()"
   ]
  },
  {
   "cell_type": "code",
   "execution_count": 41,
   "metadata": {},
   "outputs": [
    {
     "data": {
      "text/html": [
       "<div>\n",
       "<style scoped>\n",
       "    .dataframe tbody tr th:only-of-type {\n",
       "        vertical-align: middle;\n",
       "    }\n",
       "\n",
       "    .dataframe tbody tr th {\n",
       "        vertical-align: top;\n",
       "    }\n",
       "\n",
       "    .dataframe thead th {\n",
       "        text-align: right;\n",
       "    }\n",
       "</style>\n",
       "<table border=\"1\" class=\"dataframe\">\n",
       "  <thead>\n",
       "    <tr style=\"text-align: right;\">\n",
       "      <th></th>\n",
       "      <th>img_name</th>\n",
       "      <th>embedding</th>\n",
       "      <th>dominant_emotion</th>\n",
       "      <th>age</th>\n",
       "      <th>dominant_gender</th>\n",
       "      <th>dominant_race</th>\n",
       "    </tr>\n",
       "  </thead>\n",
       "  <tbody>\n",
       "    <tr>\n",
       "      <th>0</th>\n",
       "      <td>couple.jpg</td>\n",
       "      <td>[-0.9569708108901978, 0.10792163014411926, -1....</td>\n",
       "      <td>fear</td>\n",
       "      <td>31</td>\n",
       "      <td>Man</td>\n",
       "      <td>latino hispanic</td>\n",
       "    </tr>\n",
       "    <tr>\n",
       "      <th>1</th>\n",
       "      <td>img1.jpg</td>\n",
       "      <td>[0.8597482442855835, 0.9605178833007812, 1.345...</td>\n",
       "      <td>happy</td>\n",
       "      <td>31</td>\n",
       "      <td>Woman</td>\n",
       "      <td>latino hispanic</td>\n",
       "    </tr>\n",
       "    <tr>\n",
       "      <th>2</th>\n",
       "      <td>img10.jpg</td>\n",
       "      <td>[-0.3334352374076843, 1.2074142694473267, 1.05...</td>\n",
       "      <td>neutral</td>\n",
       "      <td>32</td>\n",
       "      <td>Woman</td>\n",
       "      <td>white</td>\n",
       "    </tr>\n",
       "    <tr>\n",
       "      <th>3</th>\n",
       "      <td>img11.jpg</td>\n",
       "      <td>[0.4563964009284973, 0.19060522317886353, 1.72...</td>\n",
       "      <td>fear</td>\n",
       "      <td>32</td>\n",
       "      <td>Woman</td>\n",
       "      <td>white</td>\n",
       "    </tr>\n",
       "    <tr>\n",
       "      <th>4</th>\n",
       "      <td>img11_reflection.jpg</td>\n",
       "      <td>[0.7846647500991821, 0.7575387954711914, 1.717...</td>\n",
       "      <td>neutral</td>\n",
       "      <td>36</td>\n",
       "      <td>Woman</td>\n",
       "      <td>white</td>\n",
       "    </tr>\n",
       "  </tbody>\n",
       "</table>\n",
       "</div>"
      ],
      "text/plain": [
       "               img_name                                          embedding  \\\n",
       "0            couple.jpg  [-0.9569708108901978, 0.10792163014411926, -1....   \n",
       "1              img1.jpg  [0.8597482442855835, 0.9605178833007812, 1.345...   \n",
       "2             img10.jpg  [-0.3334352374076843, 1.2074142694473267, 1.05...   \n",
       "3             img11.jpg  [0.4563964009284973, 0.19060522317886353, 1.72...   \n",
       "4  img11_reflection.jpg  [0.7846647500991821, 0.7575387954711914, 1.717...   \n",
       "\n",
       "  dominant_emotion  age dominant_gender    dominant_race  \n",
       "0             fear   31             Man  latino hispanic  \n",
       "1            happy   31           Woman  latino hispanic  \n",
       "2          neutral   32           Woman            white  \n",
       "3             fear   32           Woman            white  \n",
       "4          neutral   36           Woman            white  "
      ]
     },
     "execution_count": 41,
     "metadata": {},
     "output_type": "execute_result"
    }
   ],
   "source": [
    "\n",
    "# Assuming your DataFrame is named df\n",
    "df['img_name'] = df['img_name'].str.replace('../dataset/', '')\n",
    "\n",
    "# Display the modified DataFrame\n",
    "df.head()\n"
   ]
  },
  {
   "cell_type": "code",
   "execution_count": 28,
   "metadata": {},
   "outputs": [],
   "source": [
    "def read_config(database_name):\n",
    "    config = configparser.ConfigParser()\n",
    "    config.read('../config.ini')\n",
    "    #config.read('config.ini')\n",
    "    return config[database_name]"
   ]
  },
  {
   "cell_type": "code",
   "execution_count": 29,
   "metadata": {},
   "outputs": [],
   "source": [
    "config_data = read_config('database')"
   ]
  },
  {
   "cell_type": "code",
   "execution_count": 31,
   "metadata": {},
   "outputs": [],
   "source": [
    "host = config_data['server']\n",
    "database = config_data['database']\n",
    "username = config_data['username']\n",
    "password = config_data['password']"
   ]
  },
  {
   "cell_type": "code",
   "execution_count": 32,
   "metadata": {},
   "outputs": [
    {
     "data": {
      "text/plain": [
       "'localhost'"
      ]
     },
     "execution_count": 32,
     "metadata": {},
     "output_type": "execute_result"
    }
   ],
   "source": [
    "host"
   ]
  },
  {
   "cell_type": "code",
   "execution_count": 36,
   "metadata": {},
   "outputs": [
    {
     "name": "stderr",
     "output_type": "stream",
     "text": [
      "100%|██████████| 57/57 [00:02<00:00, 20.64it/s]\n"
     ]
    }
   ],
   "source": [
    "db_connection = mysql.connector.connect(\n",
    "    host=host,\n",
    "    user=username,\n",
    "    password=password,\n",
    "    database=database\n",
    ")\n",
    "\n",
    "cursor = db_connection.cursor()\n",
    "\n",
    "for index, instance in tqdm(df.iterrows(), total=df.shape[0]):\n",
    "    img_name = instance[\"img_name\"]\n",
    "    embeddings = instance[\"embedding\"]\n",
    "    age = instance[\"age\"]\n",
    "    dominant_emotion = instance[\"dominant_emotion\"]\n",
    "    dominant_gender = instance[\"dominant_gender\"]\n",
    "    dominant_race = instance[\"dominant_race\"]\n",
    "     \n",
    "    # Convert embeddings to JSON string\n",
    "    embeddings_json = json.dumps(embeddings)\n",
    "    \n",
    "    # Insert into face_meta table\n",
    "    current_time = datetime.now()\n",
    "    unique_key = hashlib.sha256(str(current_time).encode()).hexdigest()\n",
    "\n",
    "    # Insert into face_meta table\n",
    "    #insert_statement = \"INSERT INTO face_meta (ID, IMG_NAME, EMBEDDING, AGE, DOMINANT_EMOTION, DOMINANT_GENDER, DOMINANT_RACE) VALUES (?, ?, ?, ?, ?, ?, ?)\"\n",
    "    insert_statement = \"INSERT INTO face_meta (ID, IMG_NAME, EMBEDDING, AGE, DOMINANT_EMOTION, DOMINANT_GENDER, DOMINANT_RACE) VALUES (%s, %s, %s, %s, %s, %s, %s)\"\n",
    "    insert_args = (unique_key, img_name, embeddings_json, age, dominant_emotion, dominant_gender, dominant_race)\n",
    "    #print(insert_args)\n",
    "    cursor.execute(insert_statement, insert_args)\n",
    "   \n",
    "    # Insert into face_embeddings table\n",
    "    for i, embedding in enumerate(embeddings):\n",
    "        insert_statement = \"INSERT INTO face_embeddings (FACE_ID, DIMENSION, VALUE) VALUES (%s, %s, %s)\"\n",
    "        insert_args = (unique_key, i, embedding)\n",
    "        cursor.execute(insert_statement, insert_args)\n",
    "\n"
   ]
  },
  {
   "cell_type": "code",
   "execution_count": 37,
   "metadata": {},
   "outputs": [],
   "source": [
    "db_connection.commit()"
   ]
  },
  {
   "cell_type": "code",
   "execution_count": 38,
   "metadata": {},
   "outputs": [],
   "source": [
    "cursor.close()\n",
    "db_connection.close()"
   ]
  }
 ],
 "metadata": {
  "kernelspec": {
   "display_name": "env_3_11",
   "language": "python",
   "name": "python3"
  },
  "language_info": {
   "codemirror_mode": {
    "name": "ipython",
    "version": 3
   },
   "file_extension": ".py",
   "mimetype": "text/x-python",
   "name": "python",
   "nbconvert_exporter": "python",
   "pygments_lexer": "ipython3",
   "version": "3.8.18"
  }
 },
 "nbformat": 4,
 "nbformat_minor": 2
}

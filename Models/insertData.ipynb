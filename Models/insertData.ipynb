{
 "cells": [
  {
   "cell_type": "code",
   "execution_count": 1,
   "metadata": {},
   "outputs": [],
   "source": [
    "\n",
    "import mysql.connector  \n",
    "import configparser\n",
    "import json\n",
    "from deepface import DeepFace\n",
    "from deepface.commons import package_utils, folder_utils\n",
    "import os\n",
    "\n",
    "from datetime import datetime\n",
    "import hashlib\n",
    "\n",
    "import pandas as pd\n",
    "import numpy as np\n",
    "import os\n",
    "from tqdm import tqdm\n",
    "import pickle\n",
    "import matplotlib.pyplot as plt\n",
    "import math\n",
    "import time\n",
    "\n",
    "#!pip install deepface\n",
    "from deepface import DeepFace\n",
    "from deepface.commons import package_utils, folder_utils"
   ]
  },
  {
   "cell_type": "code",
   "execution_count": 2,
   "metadata": {},
   "outputs": [],
   "source": [
    "model = DeepFace.build_model(\"Facenet\")"
   ]
  },
  {
   "cell_type": "code",
   "execution_count": 3,
   "metadata": {},
   "outputs": [],
   "source": [
    "facial_img_paths = []\n",
    "#Available at: https://github.com/serengil/deepface/tree/master/tests/dataset\n",
    "for root, directory, files in os.walk(\"../dataset\"):\n",
    "    for file in files:\n",
    "        if '.jpg' in file:\n",
    "            facial_img_paths.append(root+\"/\"+file)"
   ]
  },
  {
   "cell_type": "code",
   "execution_count": 4,
   "metadata": {},
   "outputs": [
    {
     "name": "stderr",
     "output_type": "stream",
     "text": [
      "Action: race: 100%|██████████| 4/4 [00:02<00:00,  1.46it/s]\n",
      "Action: race: 100%|██████████| 4/4 [00:00<00:00,  9.90it/s]\n",
      "Action: race: 100%|██████████| 4/4 [00:00<00:00, 10.12it/s]\n",
      "Action: race: 100%|██████████| 4/4 [00:00<00:00, 10.01it/s]\n",
      "Action: race: 100%|██████████| 4/4 [00:00<00:00, 10.16it/s]\n",
      "Action: race: 100%|██████████| 4/4 [00:00<00:00, 10.20it/s]\n",
      "Action: race: 100%|██████████| 4/4 [00:00<00:00, 10.06it/s]\n",
      "Action: race: 100%|██████████| 4/4 [00:00<00:00, 10.16it/s]\n",
      "Action: race: 100%|██████████| 4/4 [00:00<00:00, 10.11it/s]\n",
      "Action: race: 100%|██████████| 4/4 [00:00<00:00, 10.11it/s]\n",
      "Action: race: 100%|██████████| 4/4 [00:00<00:00, 10.15it/s]\n",
      "Action: race: 100%|██████████| 4/4 [00:00<00:00, 10.08it/s]\n",
      "Action: race: 100%|██████████| 4/4 [00:00<00:00, 10.15it/s]\n",
      "Action: race: 100%|██████████| 4/4 [00:00<00:00, 10.11it/s]\n",
      "Action: race: 100%|██████████| 4/4 [00:00<00:00,  9.97it/s]\n",
      "Action: race: 100%|██████████| 4/4 [00:00<00:00,  9.63it/s]\n",
      "Action: race: 100%|██████████| 4/4 [00:00<00:00,  9.77it/s]\n",
      "Action: race: 100%|██████████| 4/4 [00:00<00:00, 10.10it/s]\n",
      "Action: race: 100%|██████████| 4/4 [00:00<00:00,  9.96it/s]\n",
      "Action: race: 100%|██████████| 4/4 [00:00<00:00, 10.08it/s]\n",
      "Action: race: 100%|██████████| 4/4 [00:00<00:00, 10.08it/s]\n",
      "Action: race: 100%|██████████| 4/4 [00:00<00:00, 10.07it/s]\n",
      "Action: race: 100%|██████████| 4/4 [00:00<00:00, 10.06it/s]\n",
      "Action: race: 100%|██████████| 4/4 [00:00<00:00,  9.71it/s]\n",
      "Action: race: 100%|██████████| 4/4 [00:00<00:00,  9.97it/s]\n",
      "Action: race: 100%|██████████| 4/4 [00:00<00:00,  9.98it/s]\n",
      "Action: race: 100%|██████████| 4/4 [00:00<00:00,  9.99it/s]\n",
      "Action: race: 100%|██████████| 4/4 [00:00<00:00, 10.09it/s]\n",
      "Action: race: 100%|██████████| 4/4 [00:00<00:00,  9.85it/s]\n",
      "Action: race: 100%|██████████| 4/4 [00:00<00:00,  9.98it/s]\n",
      "Action: race: 100%|██████████| 4/4 [00:00<00:00,  9.68it/s]\n",
      "Action: race: 100%|██████████| 4/4 [00:00<00:00, 10.04it/s]\n",
      "Action: race: 100%|██████████| 4/4 [00:00<00:00,  9.82it/s]\n",
      "Action: race: 100%|██████████| 4/4 [00:00<00:00, 10.06it/s]\n",
      "Action: race: 100%|██████████| 4/4 [00:00<00:00, 10.04it/s]\n",
      "Action: race: 100%|██████████| 4/4 [00:00<00:00,  9.93it/s]\n",
      "Action: race: 100%|██████████| 4/4 [00:00<00:00, 10.04it/s]\n",
      "Action: race: 100%|██████████| 4/4 [00:00<00:00,  9.93it/s]\n",
      "Action: race: 100%|██████████| 4/4 [00:00<00:00, 10.01it/s]\n",
      "Action: race: 100%|██████████| 4/4 [00:00<00:00, 10.01it/s]\n",
      "Action: race: 100%|██████████| 4/4 [00:00<00:00,  9.99it/s]\n",
      "Action: race: 100%|██████████| 4/4 [00:00<00:00, 10.06it/s]\n",
      "Action: race: 100%|██████████| 4/4 [00:00<00:00,  9.96it/s]\n",
      "Action: race: 100%|██████████| 4/4 [00:00<00:00,  9.67it/s]\n",
      "Action: race: 100%|██████████| 4/4 [00:00<00:00, 10.01it/s]\n",
      "Action: race: 100%|██████████| 4/4 [00:00<00:00,  9.80it/s]\n",
      "Action: race: 100%|██████████| 4/4 [00:00<00:00,  9.96it/s]\n",
      "Action: race: 100%|██████████| 4/4 [00:00<00:00,  9.51it/s]\n",
      "Action: race: 100%|██████████| 4/4 [00:00<00:00,  9.91it/s]\n",
      "Action: race: 100%|██████████| 4/4 [00:00<00:00,  9.97it/s]\n",
      "Action: race: 100%|██████████| 4/4 [00:00<00:00,  9.95it/s]\n",
      "Action: race: 100%|██████████| 4/4 [00:00<00:00,  9.96it/s]\n",
      "Action: race: 100%|██████████| 4/4 [00:00<00:00,  9.99it/s]\n",
      "Action: race: 100%|██████████| 4/4 [00:00<00:00, 10.01it/s]\n",
      "Action: race: 100%|██████████| 4/4 [00:00<00:00, 10.05it/s]\n",
      "Action: race: 100%|██████████| 4/4 [00:00<00:00,  9.93it/s]\n",
      "Action: race: 100%|██████████| 4/4 [00:00<00:00,  9.73it/s]\n",
      "Action: race: 100%|██████████| 4/4 [00:00<00:00, 10.04it/s]\n",
      "Action: race: 100%|██████████| 4/4 [00:00<00:00,  9.98it/s]\n",
      "Action: race: 100%|██████████| 4/4 [00:00<00:00, 10.10it/s]\n",
      "Action: race: 100%|██████████| 4/4 [00:00<00:00, 10.05it/s]\n",
      "Action: race: 100%|██████████| 4/4 [00:00<00:00,  9.81it/s]\n",
      "100%|██████████| 57/57 [00:43<00:00,  1.31it/s]\n"
     ]
    }
   ],
   "source": [
    "instances = []\n",
    " \n",
    "for i in tqdm(range(0, len(facial_img_paths))):\n",
    "#for i in tqdm(range(0, 10)):\n",
    "    facial_img_path = facial_img_paths[i]   \n",
    "    embedding = DeepFace.represent(img_path = facial_img_path, model_name = \"Facenet\", enforce_detection=False)[0][\"embedding\"]\n",
    "    objs = DeepFace.analyze(img_path = facial_img_path) \n",
    "    instance = []\n",
    "    instance.append(facial_img_path)\n",
    "    instance.append(embedding)\n",
    "    instance.append(objs[0][\"dominant_emotion\"])\n",
    "    instance.append(objs[0][\"age\"])\n",
    "    instance.append(objs[0][\"dominant_gender\"])\n",
    "    instance.append(objs[0][\"dominant_race\"])\n",
    "    instances.append(instance)"
   ]
  },
  {
   "cell_type": "code",
   "execution_count": 5,
   "metadata": {},
   "outputs": [
    {
     "data": {
      "text/html": [
       "<div>\n",
       "<style scoped>\n",
       "    .dataframe tbody tr th:only-of-type {\n",
       "        vertical-align: middle;\n",
       "    }\n",
       "\n",
       "    .dataframe tbody tr th {\n",
       "        vertical-align: top;\n",
       "    }\n",
       "\n",
       "    .dataframe thead th {\n",
       "        text-align: right;\n",
       "    }\n",
       "</style>\n",
       "<table border=\"1\" class=\"dataframe\">\n",
       "  <thead>\n",
       "    <tr style=\"text-align: right;\">\n",
       "      <th></th>\n",
       "      <th>img_name</th>\n",
       "      <th>embedding</th>\n",
       "      <th>dominant_emotion</th>\n",
       "      <th>age</th>\n",
       "      <th>dominant_gender</th>\n",
       "      <th>dominant_race</th>\n",
       "    </tr>\n",
       "  </thead>\n",
       "  <tbody>\n",
       "    <tr>\n",
       "      <th>0</th>\n",
       "      <td>../dataset/img22.jpg</td>\n",
       "      <td>[1.8546762466430664, 0.4593982398509979, -1.19...</td>\n",
       "      <td>happy</td>\n",
       "      <td>32</td>\n",
       "      <td>Woman</td>\n",
       "      <td>white</td>\n",
       "    </tr>\n",
       "    <tr>\n",
       "      <th>1</th>\n",
       "      <td>../dataset/img36.jpg</td>\n",
       "      <td>[1.0648695230484009, 0.014331400394439697, -0....</td>\n",
       "      <td>neutral</td>\n",
       "      <td>32</td>\n",
       "      <td>Man</td>\n",
       "      <td>latino hispanic</td>\n",
       "    </tr>\n",
       "    <tr>\n",
       "      <th>2</th>\n",
       "      <td>../dataset/img37.jpg</td>\n",
       "      <td>[1.67017662525177, 1.3304144144058228, -0.9308...</td>\n",
       "      <td>neutral</td>\n",
       "      <td>28</td>\n",
       "      <td>Man</td>\n",
       "      <td>latino hispanic</td>\n",
       "    </tr>\n",
       "    <tr>\n",
       "      <th>3</th>\n",
       "      <td>../dataset/img23.jpg</td>\n",
       "      <td>[1.7130699157714844, 2.1187288761138916, -1.11...</td>\n",
       "      <td>happy</td>\n",
       "      <td>33</td>\n",
       "      <td>Woman</td>\n",
       "      <td>white</td>\n",
       "    </tr>\n",
       "    <tr>\n",
       "      <th>4</th>\n",
       "      <td>../dataset/img35.jpg</td>\n",
       "      <td>[0.6689144372940063, 0.9128508567810059, -0.13...</td>\n",
       "      <td>neutral</td>\n",
       "      <td>25</td>\n",
       "      <td>Man</td>\n",
       "      <td>white</td>\n",
       "    </tr>\n",
       "  </tbody>\n",
       "</table>\n",
       "</div>"
      ],
      "text/plain": [
       "               img_name                                          embedding  \\\n",
       "0  ../dataset/img22.jpg  [1.8546762466430664, 0.4593982398509979, -1.19...   \n",
       "1  ../dataset/img36.jpg  [1.0648695230484009, 0.014331400394439697, -0....   \n",
       "2  ../dataset/img37.jpg  [1.67017662525177, 1.3304144144058228, -0.9308...   \n",
       "3  ../dataset/img23.jpg  [1.7130699157714844, 2.1187288761138916, -1.11...   \n",
       "4  ../dataset/img35.jpg  [0.6689144372940063, 0.9128508567810059, -0.13...   \n",
       "\n",
       "  dominant_emotion  age dominant_gender    dominant_race  \n",
       "0            happy   32           Woman            white  \n",
       "1          neutral   32             Man  latino hispanic  \n",
       "2          neutral   28             Man  latino hispanic  \n",
       "3            happy   33           Woman            white  \n",
       "4          neutral   25             Man            white  "
      ]
     },
     "execution_count": 5,
     "metadata": {},
     "output_type": "execute_result"
    }
   ],
   "source": [
    "df = pd.DataFrame(instances, columns = [\"img_name\", \"embedding\",\"dominant_emotion\", \"age\", \"dominant_gender\", \"dominant_race\"])\n",
    "df.head()"
   ]
  },
  {
   "cell_type": "code",
   "execution_count": 6,
   "metadata": {},
   "outputs": [
    {
     "data": {
      "text/html": [
       "<div>\n",
       "<style scoped>\n",
       "    .dataframe tbody tr th:only-of-type {\n",
       "        vertical-align: middle;\n",
       "    }\n",
       "\n",
       "    .dataframe tbody tr th {\n",
       "        vertical-align: top;\n",
       "    }\n",
       "\n",
       "    .dataframe thead th {\n",
       "        text-align: right;\n",
       "    }\n",
       "</style>\n",
       "<table border=\"1\" class=\"dataframe\">\n",
       "  <thead>\n",
       "    <tr style=\"text-align: right;\">\n",
       "      <th></th>\n",
       "      <th>img_name</th>\n",
       "      <th>embedding</th>\n",
       "      <th>dominant_emotion</th>\n",
       "      <th>age</th>\n",
       "      <th>dominant_gender</th>\n",
       "      <th>dominant_race</th>\n",
       "    </tr>\n",
       "  </thead>\n",
       "  <tbody>\n",
       "    <tr>\n",
       "      <th>0</th>\n",
       "      <td>img22.jpg</td>\n",
       "      <td>[1.8546762466430664, 0.4593982398509979, -1.19...</td>\n",
       "      <td>happy</td>\n",
       "      <td>32</td>\n",
       "      <td>Woman</td>\n",
       "      <td>white</td>\n",
       "    </tr>\n",
       "    <tr>\n",
       "      <th>1</th>\n",
       "      <td>img36.jpg</td>\n",
       "      <td>[1.0648695230484009, 0.014331400394439697, -0....</td>\n",
       "      <td>neutral</td>\n",
       "      <td>32</td>\n",
       "      <td>Man</td>\n",
       "      <td>latino hispanic</td>\n",
       "    </tr>\n",
       "    <tr>\n",
       "      <th>2</th>\n",
       "      <td>img37.jpg</td>\n",
       "      <td>[1.67017662525177, 1.3304144144058228, -0.9308...</td>\n",
       "      <td>neutral</td>\n",
       "      <td>28</td>\n",
       "      <td>Man</td>\n",
       "      <td>latino hispanic</td>\n",
       "    </tr>\n",
       "    <tr>\n",
       "      <th>3</th>\n",
       "      <td>img23.jpg</td>\n",
       "      <td>[1.7130699157714844, 2.1187288761138916, -1.11...</td>\n",
       "      <td>happy</td>\n",
       "      <td>33</td>\n",
       "      <td>Woman</td>\n",
       "      <td>white</td>\n",
       "    </tr>\n",
       "    <tr>\n",
       "      <th>4</th>\n",
       "      <td>img35.jpg</td>\n",
       "      <td>[0.6689144372940063, 0.9128508567810059, -0.13...</td>\n",
       "      <td>neutral</td>\n",
       "      <td>25</td>\n",
       "      <td>Man</td>\n",
       "      <td>white</td>\n",
       "    </tr>\n",
       "  </tbody>\n",
       "</table>\n",
       "</div>"
      ],
      "text/plain": [
       "    img_name                                          embedding  \\\n",
       "0  img22.jpg  [1.8546762466430664, 0.4593982398509979, -1.19...   \n",
       "1  img36.jpg  [1.0648695230484009, 0.014331400394439697, -0....   \n",
       "2  img37.jpg  [1.67017662525177, 1.3304144144058228, -0.9308...   \n",
       "3  img23.jpg  [1.7130699157714844, 2.1187288761138916, -1.11...   \n",
       "4  img35.jpg  [0.6689144372940063, 0.9128508567810059, -0.13...   \n",
       "\n",
       "  dominant_emotion  age dominant_gender    dominant_race  \n",
       "0            happy   32           Woman            white  \n",
       "1          neutral   32             Man  latino hispanic  \n",
       "2          neutral   28             Man  latino hispanic  \n",
       "3            happy   33           Woman            white  \n",
       "4          neutral   25             Man            white  "
      ]
     },
     "execution_count": 6,
     "metadata": {},
     "output_type": "execute_result"
    }
   ],
   "source": [
    "\n",
    "# Assuming your DataFrame is named df\n",
    "df['img_name'] = df['img_name'].str.replace('../dataset/', '')\n",
    "\n",
    "# Display the modified DataFrame\n",
    "df.head()\n"
   ]
  },
  {
   "cell_type": "code",
   "execution_count": 7,
   "metadata": {},
   "outputs": [],
   "source": [
    "def read_config(database_name):\n",
    "    config = configparser.ConfigParser()\n",
    "    config.read('../config.ini')\n",
    "    #config.read('config.ini')\n",
    "    return config[database_name]"
   ]
  },
  {
   "cell_type": "code",
   "execution_count": 8,
   "metadata": {},
   "outputs": [],
   "source": [
    "config_data = read_config('database')"
   ]
  },
  {
   "cell_type": "code",
   "execution_count": 9,
   "metadata": {},
   "outputs": [],
   "source": [
    "host = config_data['server']\n",
    "database = config_data['database']\n",
    "username = config_data['username']\n",
    "password = config_data['password']"
   ]
  },
  {
   "cell_type": "code",
   "execution_count": 10,
   "metadata": {},
   "outputs": [
    {
     "data": {
      "text/plain": [
       "'localhost'"
      ]
     },
     "execution_count": 10,
     "metadata": {},
     "output_type": "execute_result"
    }
   ],
   "source": [
    "host"
   ]
  },
  {
   "cell_type": "code",
   "execution_count": 11,
   "metadata": {},
   "outputs": [
    {
     "name": "stderr",
     "output_type": "stream",
     "text": [
      "100%|██████████| 57/57 [00:00<00:00, 149.40it/s]\n"
     ]
    }
   ],
   "source": [
    "db_connection = mysql.connector.connect(\n",
    "    host=host,\n",
    "    user=username,\n",
    "    password=password,\n",
    "    database=database\n",
    ")\n",
    "\n",
    "cursor = db_connection.cursor()\n",
    "\n",
    "for index, instance in tqdm(df.iterrows(), total=df.shape[0]):\n",
    "    img_name = instance[\"img_name\"]\n",
    "    embeddings = instance[\"embedding\"]\n",
    "    age = instance[\"age\"]\n",
    "    dominant_emotion = instance[\"dominant_emotion\"]\n",
    "    dominant_gender = instance[\"dominant_gender\"]\n",
    "    dominant_race = instance[\"dominant_race\"]\n",
    "     \n",
    "    # Convert embeddings to JSON string\n",
    "    embeddings_json = json.dumps(embeddings)\n",
    "    \n",
    "    # Insert into face_meta table\n",
    "    current_time = datetime.now()\n",
    "    unique_key = hashlib.sha256(str(current_time).encode()).hexdigest()\n",
    "\n",
    "    # Insert into face_meta table\n",
    "    #insert_statement = \"INSERT INTO face_meta (ID, IMG_NAME, EMBEDDING, AGE, DOMINANT_EMOTION, DOMINANT_GENDER, DOMINANT_RACE) VALUES (?, ?, ?, ?, ?, ?, ?)\"\n",
    "    insert_statement = \"INSERT INTO face_meta (ID, IMG_NAME, EMBEDDING, AGE, DOMINANT_EMOTION, DOMINANT_GENDER, DOMINANT_RACE) VALUES (%s, %s, %s, %s, %s, %s, %s)\"\n",
    "    insert_args = (unique_key, img_name, embeddings_json, age, dominant_emotion, dominant_gender, dominant_race)\n",
    "    #print(insert_args)\n",
    "    cursor.execute(insert_statement, insert_args)\n",
    "   \n",
    "    # Insert into face_embeddings table\n",
    "    for i, embedding in enumerate(embeddings):\n",
    "        insert_statement = \"INSERT INTO face_embeddings (FACE_ID, DIMENSION, VALUE) VALUES (%s, %s, %s)\"\n",
    "        insert_args = (unique_key, i, embedding)\n",
    "        cursor.execute(insert_statement, insert_args)\n",
    "\n"
   ]
  },
  {
   "cell_type": "code",
   "execution_count": 37,
   "metadata": {},
   "outputs": [],
   "source": [
    "db_connection.commit()"
   ]
  },
  {
   "cell_type": "code",
   "execution_count": 38,
   "metadata": {},
   "outputs": [],
   "source": [
    "cursor.close()\n",
    "db_connection.close()"
   ]
  }
 ],
 "metadata": {
  "kernelspec": {
   "display_name": "env_3_11",
   "language": "python",
   "name": "python3"
  },
  "language_info": {
   "codemirror_mode": {
    "name": "ipython",
    "version": 3
   },
   "file_extension": ".py",
   "mimetype": "text/x-python",
   "name": "python",
   "nbconvert_exporter": "python",
   "pygments_lexer": "ipython3",
   "version": "3.8.18"
  }
 },
 "nbformat": 4,
 "nbformat_minor": 2
}
